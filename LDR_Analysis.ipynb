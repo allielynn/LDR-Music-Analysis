{
 "cells": [
  {
   "cell_type": "markdown",
   "id": "ef6a4019-a9f1-4775-891b-4ecdb95bd598",
   "metadata": {
    "tags": []
   },
   "source": [
    "# Lana Del Rey Music Analysis"
   ]
  },
  {
   "cell_type": "markdown",
   "id": "54b53411-2c6d-40e7-b12f-1d517822514f",
   "metadata": {},
   "source": [
    "In this analysis, I will be diving into Lana Del Rey's Albums and Tracks along with their popularity ratings given by Spotify. I am drawing from the Spotify API and for context as to how the popularity scores are calculated I have included the description of the popularity score calculation below.\n",
    "\n",
    "\"The Spotify popularity score is a numerical representation of how well a track is performing on the platform. It ranges from 0 to 100, with higher scores indicating higher popularity. This score influences the track’s visibility on Spotify, including its likelihood of being featured on algorithmic playlists like Discover Weekly and Release Radar.\n",
    "\n",
    "Spotify’s popularity score is determined by a variety of factors:\n",
    "\n",
    "Streams: The number of times a track is streamed.\n",
    "Recent Activity: More weight is given to recent streams.\n",
    "Engagement: Includes likes, shares, saves, and playlist additions.\n",
    "Listener Behavior: How long listeners play the track and if they skip it.\n",
    "User Interactions: Actions such as follows, comments, and social shares.\"\n",
    "\n",
    "Courtesy of: [Understanding Spotify's Popularity Score](https://yourmusicmanager.com/understanding-spotifys-popularity-score/)"
   ]
  },
  {
   "cell_type": "markdown",
   "id": "8605806d-9cc8-4def-a9f3-e0b737d2f4b3",
   "metadata": {
    "tags": []
   },
   "source": [
    "### Connect to Spotify API and load data in:"
   ]
  },
  {
   "cell_type": "code",
   "execution_count": 4,
   "id": "e87b8107-5070-4adc-a793-9dbcd076ec31",
   "metadata": {
    "tags": []
   },
   "outputs": [
    {
     "name": "stdout",
     "output_type": "stream",
     "text": [
      "Collecting spotipy\n",
      "  Obtaining dependency information for spotipy from https://files.pythonhosted.org/packages/ea/35/304e456a471128aa4a776243558f43aee3444731ef8fc9bc8c351fddfdd8/spotipy-2.24.0-py3-none-any.whl.metadata\n",
      "  Downloading spotipy-2.24.0-py3-none-any.whl.metadata (4.9 kB)\n",
      "Collecting redis>=3.5.3 (from spotipy)\n",
      "  Obtaining dependency information for redis>=3.5.3 from https://files.pythonhosted.org/packages/c5/d1/19a9c76811757684a0f74adc25765c8a901d67f9f6472ac9d57c844a23c8/redis-5.0.8-py3-none-any.whl.metadata\n",
      "  Downloading redis-5.0.8-py3-none-any.whl.metadata (9.2 kB)\n",
      "Requirement already satisfied: requests>=2.25.0 in ./anaconda3/lib/python3.11/site-packages (from spotipy) (2.31.0)\n",
      "Requirement already satisfied: urllib3>=1.26.0 in ./anaconda3/lib/python3.11/site-packages (from spotipy) (1.26.16)\n",
      "Requirement already satisfied: charset-normalizer<4,>=2 in ./anaconda3/lib/python3.11/site-packages (from requests>=2.25.0->spotipy) (2.0.4)\n",
      "Requirement already satisfied: idna<4,>=2.5 in ./anaconda3/lib/python3.11/site-packages (from requests>=2.25.0->spotipy) (3.4)\n",
      "Requirement already satisfied: certifi>=2017.4.17 in ./anaconda3/lib/python3.11/site-packages (from requests>=2.25.0->spotipy) (2023.7.22)\n",
      "Downloading spotipy-2.24.0-py3-none-any.whl (30 kB)\n",
      "Downloading redis-5.0.8-py3-none-any.whl (255 kB)\n",
      "\u001b[2K   \u001b[90m━━━━━━━━━━━━━━━━━━━━━━━━━━━━━━━━━━━━━━━━\u001b[0m \u001b[32m255.6/255.6 kB\u001b[0m \u001b[31m7.6 MB/s\u001b[0m eta \u001b[36m0:00:00\u001b[0m\n",
      "\u001b[?25hInstalling collected packages: redis, spotipy\n",
      "Successfully installed redis-5.0.8 spotipy-2.24.0\n"
     ]
    }
   ],
   "source": [
    "! pip install spotipy"
   ]
  },
  {
   "cell_type": "code",
   "execution_count": 6,
   "id": "00c444fe-be30-4a31-a3b5-364b933d7bd3",
   "metadata": {
    "tags": []
   },
   "outputs": [
    {
     "name": "stdout",
     "output_type": "stream",
     "text": [
      "Requirement already satisfied: pandas in ./anaconda3/lib/python3.11/site-packages (2.0.3)\n",
      "Requirement already satisfied: python-dateutil>=2.8.2 in ./anaconda3/lib/python3.11/site-packages (from pandas) (2.8.2)\n",
      "Requirement already satisfied: pytz>=2020.1 in ./anaconda3/lib/python3.11/site-packages (from pandas) (2023.3.post1)\n",
      "Requirement already satisfied: tzdata>=2022.1 in ./anaconda3/lib/python3.11/site-packages (from pandas) (2023.3)\n",
      "Requirement already satisfied: numpy>=1.21.0 in ./anaconda3/lib/python3.11/site-packages (from pandas) (1.24.3)\n",
      "Requirement already satisfied: six>=1.5 in ./anaconda3/lib/python3.11/site-packages (from python-dateutil>=2.8.2->pandas) (1.16.0)\n"
     ]
    }
   ],
   "source": [
    "! pip install pandas"
   ]
  },
  {
   "cell_type": "code",
   "execution_count": 6,
   "id": "8f8886f2-f2d7-4b98-bf81-3bc72415e401",
   "metadata": {
    "tags": []
   },
   "outputs": [
    {
     "name": "stdout",
     "output_type": "stream",
     "text": [
      "Please go to this URL and authorize access: https://accounts.spotify.com/authorize?client_id=bd4ee84dec214e37828435d85c4883fd&response_type=code&redirect_uri=http%3A%2F%2Flocalhost%3A8888%2Fcallback&scope=user-library-read\n"
     ]
    },
    {
     "name": "stdin",
     "output_type": "stream",
     "text": [
      "Enter the full redirect URL:  http://localhost:8888/callback?code=AQBA6BX4XRtJ5sv49psovc5v6lgSg1VfO2LGVeYWbLA2rxko_ZKhnz4zGnZHLLC8jXnVB59Ic0X0oa9qwsepsoLrswgc-bj5uaRcTGsZvZuV_GqCqQ4Fm8LwkCiabu-SHQNP404wu9zly_JvVwiSqA4d2A0jthMaD6Iw1d18XcBQKoTtr5_jjlNtua_tVRdOkQgNNMM\n"
     ]
    },
    {
     "name": "stderr",
     "output_type": "stream",
     "text": [
      "/var/folders/zn/yy1j62hs7x3fk9ccymp95c940000gn/T/ipykernel_55842/3617142761.py:28: DeprecationWarning: You're using 'as_dict = True'.get_access_token will return the token string directly in future versions. Please adjust your code accordingly, or use get_cached_token instead.\n",
      "  token_info = sp_oauth.get_access_token(code)\n"
     ]
    },
    {
     "name": "stdout",
     "output_type": "stream",
     "text": [
      "DataFrame of Lana Del Rey's Albums:\n",
      "                                           Album Name Release Date  \\\n",
      "0                                           Honeymoon   2015-09-18   \n",
      "1                              Ultraviolence (Deluxe)   2014-01-01   \n",
      "2                                      Blue Banisters   2021-10-22   \n",
      "3                                            Paradise   2012-11-09   \n",
      "4                                       Lust For Life   2017-07-21   \n",
      "5                                       Ultraviolence   2014-01-01   \n",
      "6                                             Arcadia   2021-09-08   \n",
      "7                                         Born To Die   2012-01-30   \n",
      "8                            Norman Fucking Rockwell!   2019-08-30   \n",
      "9   Summertime Sadness [Lana Del Rey vs. Cedric Ge...   2014-01-01   \n",
      "10   Born To Die – Paradise Edition (Special Version)   2012-01-01   \n",
      "11                                        Born To Die   2012-01-30   \n",
      "12  Did you know that there's a tunnel under Ocean...   2023-03-24   \n",
      "13                                  Say Yes To Heaven   2023-05-19   \n",
      "14                    Summer Bummer (Snakehips Remix)   2017-08-25   \n",
      "15                                     Burning Desire   2013-03-19   \n",
      "16                                     Blue Banisters   2021-05-20   \n",
      "17                    Say Yes To Heaven (Anyma Remix)   2023-05-21   \n",
      "18                                Young And Beautiful   2013-01-01   \n",
      "19                                Video Games Remixes   2012-01-01   \n",
      "20                                         West Coast   2014-01-01   \n",
      "21                                     Shades Of Cool   2014-01-01   \n",
      "22                 Summer Bummer (Clams Casino Remix)   2017-08-25   \n",
      "23                    Lust For Life (BloodPop® Remix)   2017-08-25   \n",
      "24                                          Text Book   2021-05-20   \n",
      "25                                               Ride   2012-01-01   \n",
      "26                                         Doin' Time   2019-05-17   \n",
      "27                       Summertime Sadness (Sped Up)   2022-09-26   \n",
      "28                 Born To Die - The Paradise Edition   2012-11-12   \n",
      "29                                Wildflower Wildfire   2021-05-20   \n",
      "30                                      Brooklyn Baby   2014-01-01   \n",
      "31                   Chemtrails Over The Country Club   2021-03-19   \n",
      "32        Blue Skies (From \"The New Look\" Soundtrack)   2023-11-30   \n",
      "33  Once Upon a Dream (from \"Maleficent\") [Origina...   2014-01-01   \n",
      "34  Young And Beautiful [Lana Del Rey vs. Cedric G...   2013-01-01   \n",
      "35                    Lust for Life (with The Weeknd)   2017-04-19   \n",
      "36                 Summertime Sadness (Imanbek Remix)   2013-03-07   \n",
      "37              Summertime Sadness (Asadinho Remixes)   2013-04-15   \n",
      "38                    Summertime The Gershwin Version   2020-11-19   \n",
      "39  Watercolor Eyes (From “Euphoria” An HBO Origin...   2022-01-21   \n",
      "40                                 Blue Jeans Remixes   2012-01-01   \n",
      "41                                Looking For America   2019-08-09   \n",
      "42                                 Buddy's Rendezvous   2022-06-16   \n",
      "43  Summertime Sadness [Lana Del Rey vs. Cedric Ge...   2013-02-01   \n",
      "44       Say Yes To Heaven (sim0ne & Melo Nada Remix)   2023-05-20   \n",
      "45                  Born To Die (Bonus Track Version)   2012-01-30   \n",
      "46                                         West Coast   2014-01-01   \n",
      "47                                        Born To Die   2012-01-30   \n",
      "48  Season Of The Witch (From The Motion Picture \"...   2019-08-09   \n",
      "49                        Take Me Home, Country Roads   2023-12-01   \n",
      "\n",
      "    Total Tracks Album Type  \n",
      "0             14      album  \n",
      "1             14      album  \n",
      "2             15      album  \n",
      "3              8      album  \n",
      "4             16      album  \n",
      "5             11      album  \n",
      "6              1     single  \n",
      "7             12      album  \n",
      "8             14      album  \n",
      "9              1     single  \n",
      "10            24      album  \n",
      "11            13      album  \n",
      "12            16      album  \n",
      "13             2     single  \n",
      "14             1     single  \n",
      "15             1     single  \n",
      "16             1     single  \n",
      "17             1     single  \n",
      "18             1     single  \n",
      "19             5     single  \n",
      "20             1     single  \n",
      "21             1     single  \n",
      "22             1     single  \n",
      "23             1     single  \n",
      "24             1     single  \n",
      "25             1     single  \n",
      "26             1     single  \n",
      "27             2     single  \n",
      "28            23      album  \n",
      "29             1     single  \n",
      "30             1     single  \n",
      "31            11      album  \n",
      "32             1     single  \n",
      "33             1     single  \n",
      "34             1     single  \n",
      "35             1     single  \n",
      "36             1     single  \n",
      "37             3     single  \n",
      "38             1     single  \n",
      "39             1     single  \n",
      "40             6     single  \n",
      "41             1     single  \n",
      "42             6     single  \n",
      "43             1     single  \n",
      "44             2     single  \n",
      "45            15      album  \n",
      "46             4     single  \n",
      "47            12      album  \n",
      "48             1     single  \n",
      "49             1     single  \n",
      "\n",
      "DataFrame of Lana Del Rey's Tracks:\n",
      "                      Track Name  Track Popularity                Album ID  \\\n",
      "0                      Honeymoon                61  2DpEBrjCur1ythIZ10gJWw   \n",
      "1         Music To Watch Boys To                65  2DpEBrjCur1ythIZ10gJWw   \n",
      "2             Terrence Loves You                57  2DpEBrjCur1ythIZ10gJWw   \n",
      "3              God Knows I Tried                58  2DpEBrjCur1ythIZ10gJWw   \n",
      "4              High By The Beach                69  2DpEBrjCur1ythIZ10gJWw   \n",
      "..                           ...               ...                     ...   \n",
      "270           Million Dollar Man                28  5IjSLZhlg0qVq62r2PSfM1   \n",
      "271           Summertime Sadness                34  5IjSLZhlg0qVq62r2PSfM1   \n",
      "272  This Is What Makes Us Girls                27  5IjSLZhlg0qVq62r2PSfM1   \n",
      "273          Season Of The Witch                60  4K7RKXggxezOmccv1Uuviq   \n",
      "274  Take Me Home, Country Roads                68  5qDjtBY8cC4bO6wytuGOuT   \n",
      "\n",
      "                                            Album Name  \n",
      "0                                            Honeymoon  \n",
      "1                                            Honeymoon  \n",
      "2                                            Honeymoon  \n",
      "3                                            Honeymoon  \n",
      "4                                            Honeymoon  \n",
      "..                                                 ...  \n",
      "270                                        Born To Die  \n",
      "271                                        Born To Die  \n",
      "272                                        Born To Die  \n",
      "273  Season Of The Witch (From The Motion Picture \"...  \n",
      "274                        Take Me Home, Country Roads  \n",
      "\n",
      "[275 rows x 4 columns]\n"
     ]
    }
   ],
   "source": [
    "import spotipy\n",
    "from spotipy.oauth2 import SpotifyOAuth\n",
    "import pandas as pd\n",
    "\n",
    "# Spotify application credentials\n",
    "client_id = 'bd4ee84dec214e37828435d85c4883fd'\n",
    "client_secret = 'c0635473ab2446588d522e44b32dc89c'\n",
    "redirect_uri = 'http://localhost:8888/callback'  \n",
    "scope = 'user-library-read' \n",
    "\n",
    "# Create SpotifyOAuth instance\n",
    "sp_oauth = SpotifyOAuth(client_id=client_id, client_secret=client_secret, redirect_uri=redirect_uri, scope=scope)\n",
    "\n",
    "\n",
    "# Get the URL for user authentication\n",
    "auth_url = sp_oauth.get_authorize_url()\n",
    "print(f'Please go to this URL and authorize access: {auth_url}')\n",
    "\n",
    "# After the user authorizes, they will be redirected to the redirect_uri with a code in the URL.\n",
    "# You'll need to manually extract that code and use it here.\n",
    "\n",
    "# This part is manual, you need to extract the code from the redirect URL\n",
    "# You can get it by parsing the redirect URL\n",
    "response_url = input('Enter the full redirect URL: ')\n",
    "\n",
    "# Use the code to fetch the access token\n",
    "code = sp_oauth.parse_response_code(response_url)\n",
    "token_info = sp_oauth.get_access_token(code)\n",
    "\n",
    "\n",
    "# Initialize Spotify API object\n",
    "sp = spotipy.Spotify(auth=token_info['access_token'])\n",
    "\n",
    "# Function to fetch tracks for an album\n",
    "def fetch_album_tracks(album_id):\n",
    "    tracks = []\n",
    "    album_tracks = sp.album_tracks(album_id)\n",
    "    for track in album_tracks['items']:\n",
    "        track_data = {\n",
    "            'Track Name': track['name'],\n",
    "            'Track Popularity': sp.track(track['id'])['popularity'],  # Fetch popularity for each track\n",
    "            'Album ID': album_id,\n",
    "            'Album Name': sp.album(album_id)['name']  # Linking track to album\n",
    "        }\n",
    "        tracks.append(track_data)\n",
    "    return tracks\n",
    "\n",
    "# Fetch Lana Del Rey's albums\n",
    "results = sp.search(q='artist:Lana Del Rey', type='album', limit=50)\n",
    "\n",
    "# Initialize lists to store album and track data\n",
    "albums_data = []\n",
    "tracks_data = []\n",
    "\n",
    "# Iterate over each album in the results\n",
    "for album in results['albums']['items']:\n",
    "    \n",
    "    # Extract album details\n",
    "    album_data = {\n",
    "        'Album Name': album['name'],\n",
    "        'Release Date': album['release_date'],\n",
    "        'Total Tracks': album['total_tracks'],\n",
    "        'Album Type': album['album_type']\n",
    "    }\n",
    "    albums_data.append(album_data)\n",
    "    \n",
    "    # Fetch and append tracks for the current album\n",
    "    tracks_data.extend(fetch_album_tracks(album['id']))\n",
    "\n",
    "# Convert albums data into df\n",
    "albums_df = pd.DataFrame(albums_data)\n",
    "\n",
    "# Convert tracks data into df\n",
    "tracks_df = pd.DataFrame(tracks_data)\n",
    "\n",
    "print(\"DataFrame of Lana Del Rey's Albums:\")\n",
    "print(albums_df)\n",
    "\n",
    "print(\"\\nDataFrame of Lana Del Rey's Tracks:\")\n",
    "print(tracks_df)"
   ]
  },
  {
   "cell_type": "markdown",
   "id": "056220aa-2cef-4f81-b6ab-c4cff12fca27",
   "metadata": {},
   "source": [
    "### View Data:"
   ]
  },
  {
   "cell_type": "code",
   "execution_count": 7,
   "id": "4ce8787f-947c-4e66-9286-77f83530294e",
   "metadata": {
    "tags": []
   },
   "outputs": [
    {
     "data": {
      "text/html": [
       "<div>\n",
       "<style scoped>\n",
       "    .dataframe tbody tr th:only-of-type {\n",
       "        vertical-align: middle;\n",
       "    }\n",
       "\n",
       "    .dataframe tbody tr th {\n",
       "        vertical-align: top;\n",
       "    }\n",
       "\n",
       "    .dataframe thead th {\n",
       "        text-align: right;\n",
       "    }\n",
       "</style>\n",
       "<table border=\"1\" class=\"dataframe\">\n",
       "  <thead>\n",
       "    <tr style=\"text-align: right;\">\n",
       "      <th></th>\n",
       "      <th>Album Name</th>\n",
       "      <th>Release Date</th>\n",
       "      <th>Total Tracks</th>\n",
       "      <th>Album Type</th>\n",
       "    </tr>\n",
       "  </thead>\n",
       "  <tbody>\n",
       "    <tr>\n",
       "      <th>0</th>\n",
       "      <td>Honeymoon</td>\n",
       "      <td>2015-09-18</td>\n",
       "      <td>14</td>\n",
       "      <td>album</td>\n",
       "    </tr>\n",
       "    <tr>\n",
       "      <th>1</th>\n",
       "      <td>Ultraviolence (Deluxe)</td>\n",
       "      <td>2014-01-01</td>\n",
       "      <td>14</td>\n",
       "      <td>album</td>\n",
       "    </tr>\n",
       "    <tr>\n",
       "      <th>2</th>\n",
       "      <td>Blue Banisters</td>\n",
       "      <td>2021-10-22</td>\n",
       "      <td>15</td>\n",
       "      <td>album</td>\n",
       "    </tr>\n",
       "    <tr>\n",
       "      <th>3</th>\n",
       "      <td>Paradise</td>\n",
       "      <td>2012-11-09</td>\n",
       "      <td>8</td>\n",
       "      <td>album</td>\n",
       "    </tr>\n",
       "    <tr>\n",
       "      <th>4</th>\n",
       "      <td>Lust For Life</td>\n",
       "      <td>2017-07-21</td>\n",
       "      <td>16</td>\n",
       "      <td>album</td>\n",
       "    </tr>\n",
       "    <tr>\n",
       "      <th>5</th>\n",
       "      <td>Ultraviolence</td>\n",
       "      <td>2014-01-01</td>\n",
       "      <td>11</td>\n",
       "      <td>album</td>\n",
       "    </tr>\n",
       "    <tr>\n",
       "      <th>6</th>\n",
       "      <td>Arcadia</td>\n",
       "      <td>2021-09-08</td>\n",
       "      <td>1</td>\n",
       "      <td>single</td>\n",
       "    </tr>\n",
       "    <tr>\n",
       "      <th>7</th>\n",
       "      <td>Born To Die</td>\n",
       "      <td>2012-01-30</td>\n",
       "      <td>12</td>\n",
       "      <td>album</td>\n",
       "    </tr>\n",
       "    <tr>\n",
       "      <th>8</th>\n",
       "      <td>Norman Fucking Rockwell!</td>\n",
       "      <td>2019-08-30</td>\n",
       "      <td>14</td>\n",
       "      <td>album</td>\n",
       "    </tr>\n",
       "    <tr>\n",
       "      <th>9</th>\n",
       "      <td>Summertime Sadness [Lana Del Rey vs. Cedric Ge...</td>\n",
       "      <td>2014-01-01</td>\n",
       "      <td>1</td>\n",
       "      <td>single</td>\n",
       "    </tr>\n",
       "  </tbody>\n",
       "</table>\n",
       "</div>"
      ],
      "text/plain": [
       "                                          Album Name Release Date  \\\n",
       "0                                          Honeymoon   2015-09-18   \n",
       "1                             Ultraviolence (Deluxe)   2014-01-01   \n",
       "2                                     Blue Banisters   2021-10-22   \n",
       "3                                           Paradise   2012-11-09   \n",
       "4                                      Lust For Life   2017-07-21   \n",
       "5                                      Ultraviolence   2014-01-01   \n",
       "6                                            Arcadia   2021-09-08   \n",
       "7                                        Born To Die   2012-01-30   \n",
       "8                           Norman Fucking Rockwell!   2019-08-30   \n",
       "9  Summertime Sadness [Lana Del Rey vs. Cedric Ge...   2014-01-01   \n",
       "\n",
       "   Total Tracks Album Type  \n",
       "0            14      album  \n",
       "1            14      album  \n",
       "2            15      album  \n",
       "3             8      album  \n",
       "4            16      album  \n",
       "5            11      album  \n",
       "6             1     single  \n",
       "7            12      album  \n",
       "8            14      album  \n",
       "9             1     single  "
      ]
     },
     "execution_count": 7,
     "metadata": {},
     "output_type": "execute_result"
    }
   ],
   "source": [
    "albums_df.head(10)"
   ]
  },
  {
   "cell_type": "code",
   "execution_count": 8,
   "id": "7fbd702e-4905-4784-9665-5da1c37cfedc",
   "metadata": {
    "tags": []
   },
   "outputs": [
    {
     "data": {
      "text/html": [
       "<div>\n",
       "<style scoped>\n",
       "    .dataframe tbody tr th:only-of-type {\n",
       "        vertical-align: middle;\n",
       "    }\n",
       "\n",
       "    .dataframe tbody tr th {\n",
       "        vertical-align: top;\n",
       "    }\n",
       "\n",
       "    .dataframe thead th {\n",
       "        text-align: right;\n",
       "    }\n",
       "</style>\n",
       "<table border=\"1\" class=\"dataframe\">\n",
       "  <thead>\n",
       "    <tr style=\"text-align: right;\">\n",
       "      <th></th>\n",
       "      <th>Track Name</th>\n",
       "      <th>Track Popularity</th>\n",
       "      <th>Album ID</th>\n",
       "      <th>Album Name</th>\n",
       "    </tr>\n",
       "  </thead>\n",
       "  <tbody>\n",
       "    <tr>\n",
       "      <th>0</th>\n",
       "      <td>Honeymoon</td>\n",
       "      <td>61</td>\n",
       "      <td>2DpEBrjCur1ythIZ10gJWw</td>\n",
       "      <td>Honeymoon</td>\n",
       "    </tr>\n",
       "    <tr>\n",
       "      <th>1</th>\n",
       "      <td>Music To Watch Boys To</td>\n",
       "      <td>65</td>\n",
       "      <td>2DpEBrjCur1ythIZ10gJWw</td>\n",
       "      <td>Honeymoon</td>\n",
       "    </tr>\n",
       "    <tr>\n",
       "      <th>2</th>\n",
       "      <td>Terrence Loves You</td>\n",
       "      <td>57</td>\n",
       "      <td>2DpEBrjCur1ythIZ10gJWw</td>\n",
       "      <td>Honeymoon</td>\n",
       "    </tr>\n",
       "    <tr>\n",
       "      <th>3</th>\n",
       "      <td>God Knows I Tried</td>\n",
       "      <td>58</td>\n",
       "      <td>2DpEBrjCur1ythIZ10gJWw</td>\n",
       "      <td>Honeymoon</td>\n",
       "    </tr>\n",
       "    <tr>\n",
       "      <th>4</th>\n",
       "      <td>High By The Beach</td>\n",
       "      <td>69</td>\n",
       "      <td>2DpEBrjCur1ythIZ10gJWw</td>\n",
       "      <td>Honeymoon</td>\n",
       "    </tr>\n",
       "    <tr>\n",
       "      <th>5</th>\n",
       "      <td>Freak</td>\n",
       "      <td>66</td>\n",
       "      <td>2DpEBrjCur1ythIZ10gJWw</td>\n",
       "      <td>Honeymoon</td>\n",
       "    </tr>\n",
       "    <tr>\n",
       "      <th>6</th>\n",
       "      <td>Art Deco</td>\n",
       "      <td>78</td>\n",
       "      <td>2DpEBrjCur1ythIZ10gJWw</td>\n",
       "      <td>Honeymoon</td>\n",
       "    </tr>\n",
       "    <tr>\n",
       "      <th>7</th>\n",
       "      <td>Burnt Norton - Interlude</td>\n",
       "      <td>52</td>\n",
       "      <td>2DpEBrjCur1ythIZ10gJWw</td>\n",
       "      <td>Honeymoon</td>\n",
       "    </tr>\n",
       "    <tr>\n",
       "      <th>8</th>\n",
       "      <td>Religion</td>\n",
       "      <td>62</td>\n",
       "      <td>2DpEBrjCur1ythIZ10gJWw</td>\n",
       "      <td>Honeymoon</td>\n",
       "    </tr>\n",
       "    <tr>\n",
       "      <th>9</th>\n",
       "      <td>Salvatore</td>\n",
       "      <td>75</td>\n",
       "      <td>2DpEBrjCur1ythIZ10gJWw</td>\n",
       "      <td>Honeymoon</td>\n",
       "    </tr>\n",
       "  </tbody>\n",
       "</table>\n",
       "</div>"
      ],
      "text/plain": [
       "                 Track Name  Track Popularity                Album ID  \\\n",
       "0                 Honeymoon                61  2DpEBrjCur1ythIZ10gJWw   \n",
       "1    Music To Watch Boys To                65  2DpEBrjCur1ythIZ10gJWw   \n",
       "2        Terrence Loves You                57  2DpEBrjCur1ythIZ10gJWw   \n",
       "3         God Knows I Tried                58  2DpEBrjCur1ythIZ10gJWw   \n",
       "4         High By The Beach                69  2DpEBrjCur1ythIZ10gJWw   \n",
       "5                     Freak                66  2DpEBrjCur1ythIZ10gJWw   \n",
       "6                  Art Deco                78  2DpEBrjCur1ythIZ10gJWw   \n",
       "7  Burnt Norton - Interlude                52  2DpEBrjCur1ythIZ10gJWw   \n",
       "8                  Religion                62  2DpEBrjCur1ythIZ10gJWw   \n",
       "9                 Salvatore                75  2DpEBrjCur1ythIZ10gJWw   \n",
       "\n",
       "  Album Name  \n",
       "0  Honeymoon  \n",
       "1  Honeymoon  \n",
       "2  Honeymoon  \n",
       "3  Honeymoon  \n",
       "4  Honeymoon  \n",
       "5  Honeymoon  \n",
       "6  Honeymoon  \n",
       "7  Honeymoon  \n",
       "8  Honeymoon  \n",
       "9  Honeymoon  "
      ]
     },
     "execution_count": 8,
     "metadata": {},
     "output_type": "execute_result"
    }
   ],
   "source": [
    "tracks_df.head(10)"
   ]
  },
  {
   "cell_type": "markdown",
   "id": "a077ddb3-221b-428e-bd9c-fe8e5b2d8071",
   "metadata": {},
   "source": [
    "### Sort by Popularity:"
   ]
  },
  {
   "cell_type": "code",
   "execution_count": 9,
   "id": "7a26d859-e0ed-4cf0-a1ac-5d94d7051ae5",
   "metadata": {
    "tags": []
   },
   "outputs": [],
   "source": [
    "tracks_df_sorted = tracks_df.sort_values(by='Track Popularity', ascending=False)"
   ]
  },
  {
   "cell_type": "code",
   "execution_count": 10,
   "id": "fb890408-40a9-48bb-84c9-9f17e57c2881",
   "metadata": {
    "tags": []
   },
   "outputs": [
    {
     "data": {
      "text/html": [
       "<div>\n",
       "<style scoped>\n",
       "    .dataframe tbody tr th:only-of-type {\n",
       "        vertical-align: middle;\n",
       "    }\n",
       "\n",
       "    .dataframe tbody tr th {\n",
       "        vertical-align: top;\n",
       "    }\n",
       "\n",
       "    .dataframe thead th {\n",
       "        text-align: right;\n",
       "    }\n",
       "</style>\n",
       "<table border=\"1\" class=\"dataframe\">\n",
       "  <thead>\n",
       "    <tr style=\"text-align: right;\">\n",
       "      <th></th>\n",
       "      <th>Track Name</th>\n",
       "      <th>Track Popularity</th>\n",
       "      <th>Album ID</th>\n",
       "      <th>Album Name</th>\n",
       "    </tr>\n",
       "  </thead>\n",
       "  <tbody>\n",
       "    <tr>\n",
       "      <th>0</th>\n",
       "      <td>Young And Beautiful</td>\n",
       "      <td>85</td>\n",
       "      <td>1D92WOHWUI2AGQCCdplcXL</td>\n",
       "      <td>Young And Beautiful</td>\n",
       "    </tr>\n",
       "    <tr>\n",
       "      <th>1</th>\n",
       "      <td>Say Yes To Heaven</td>\n",
       "      <td>84</td>\n",
       "      <td>6jVg0POvGYH1Pt6lISl3ok</td>\n",
       "      <td>Say Yes To Heaven</td>\n",
       "    </tr>\n",
       "    <tr>\n",
       "      <th>2</th>\n",
       "      <td>West Coast</td>\n",
       "      <td>83</td>\n",
       "      <td>1ORxRsK3MrSLvh7VQTF01F</td>\n",
       "      <td>Ultraviolence (Deluxe)</td>\n",
       "    </tr>\n",
       "    <tr>\n",
       "      <th>3</th>\n",
       "      <td>Cinnamon Girl</td>\n",
       "      <td>82</td>\n",
       "      <td>5XpEKORZ4y6OrCZSKsi46A</td>\n",
       "      <td>Norman Fucking Rockwell!</td>\n",
       "    </tr>\n",
       "    <tr>\n",
       "      <th>4</th>\n",
       "      <td>Brooklyn Baby</td>\n",
       "      <td>81</td>\n",
       "      <td>1ORxRsK3MrSLvh7VQTF01F</td>\n",
       "      <td>Ultraviolence (Deluxe)</td>\n",
       "    </tr>\n",
       "    <tr>\n",
       "      <th>5</th>\n",
       "      <td>Margaret (feat. Bleachers)</td>\n",
       "      <td>79</td>\n",
       "      <td>5HOHne1wzItQlIYmLXLYfZ</td>\n",
       "      <td>Did you know that there's a tunnel under Ocean...</td>\n",
       "    </tr>\n",
       "    <tr>\n",
       "      <th>6</th>\n",
       "      <td>Doin' Time</td>\n",
       "      <td>79</td>\n",
       "      <td>5XpEKORZ4y6OrCZSKsi46A</td>\n",
       "      <td>Norman Fucking Rockwell!</td>\n",
       "    </tr>\n",
       "    <tr>\n",
       "      <th>7</th>\n",
       "      <td>Let The Light In (feat. Father John Misty)</td>\n",
       "      <td>79</td>\n",
       "      <td>5HOHne1wzItQlIYmLXLYfZ</td>\n",
       "      <td>Did you know that there's a tunnel under Ocean...</td>\n",
       "    </tr>\n",
       "    <tr>\n",
       "      <th>8</th>\n",
       "      <td>Art Deco</td>\n",
       "      <td>78</td>\n",
       "      <td>2DpEBrjCur1ythIZ10gJWw</td>\n",
       "      <td>Honeymoon</td>\n",
       "    </tr>\n",
       "    <tr>\n",
       "      <th>9</th>\n",
       "      <td>Chemtrails Over The Country Club</td>\n",
       "      <td>78</td>\n",
       "      <td>6QeosPQpJckkW0Obir5RT8</td>\n",
       "      <td>Chemtrails Over The Country Club</td>\n",
       "    </tr>\n",
       "    <tr>\n",
       "      <th>10</th>\n",
       "      <td>White Mustang</td>\n",
       "      <td>77</td>\n",
       "      <td>7xYiTrbTL57QO0bb4hXIKo</td>\n",
       "      <td>Lust For Life</td>\n",
       "    </tr>\n",
       "    <tr>\n",
       "      <th>11</th>\n",
       "      <td>Sad Girl</td>\n",
       "      <td>76</td>\n",
       "      <td>1ORxRsK3MrSLvh7VQTF01F</td>\n",
       "      <td>Ultraviolence (Deluxe)</td>\n",
       "    </tr>\n",
       "    <tr>\n",
       "      <th>12</th>\n",
       "      <td>Ultraviolence</td>\n",
       "      <td>75</td>\n",
       "      <td>1ORxRsK3MrSLvh7VQTF01F</td>\n",
       "      <td>Ultraviolence (Deluxe)</td>\n",
       "    </tr>\n",
       "    <tr>\n",
       "      <th>13</th>\n",
       "      <td>Pretty When You Cry</td>\n",
       "      <td>75</td>\n",
       "      <td>1ORxRsK3MrSLvh7VQTF01F</td>\n",
       "      <td>Ultraviolence (Deluxe)</td>\n",
       "    </tr>\n",
       "    <tr>\n",
       "      <th>14</th>\n",
       "      <td>Summertime Sadness</td>\n",
       "      <td>75</td>\n",
       "      <td>0Dt3FbpMQwjoT5KNAw0IXR</td>\n",
       "      <td>Born To Die – Paradise Edition (Special Version)</td>\n",
       "    </tr>\n",
       "  </tbody>\n",
       "</table>\n",
       "</div>"
      ],
      "text/plain": [
       "                                    Track Name  Track Popularity  \\\n",
       "0                          Young And Beautiful                85   \n",
       "1                            Say Yes To Heaven                84   \n",
       "2                                   West Coast                83   \n",
       "3                                Cinnamon Girl                82   \n",
       "4                                Brooklyn Baby                81   \n",
       "5                   Margaret (feat. Bleachers)                79   \n",
       "6                                   Doin' Time                79   \n",
       "7   Let The Light In (feat. Father John Misty)                79   \n",
       "8                                     Art Deco                78   \n",
       "9             Chemtrails Over The Country Club                78   \n",
       "10                               White Mustang                77   \n",
       "11                                    Sad Girl                76   \n",
       "12                               Ultraviolence                75   \n",
       "13                         Pretty When You Cry                75   \n",
       "14                          Summertime Sadness                75   \n",
       "\n",
       "                  Album ID                                         Album Name  \n",
       "0   1D92WOHWUI2AGQCCdplcXL                                Young And Beautiful  \n",
       "1   6jVg0POvGYH1Pt6lISl3ok                                  Say Yes To Heaven  \n",
       "2   1ORxRsK3MrSLvh7VQTF01F                             Ultraviolence (Deluxe)  \n",
       "3   5XpEKORZ4y6OrCZSKsi46A                           Norman Fucking Rockwell!  \n",
       "4   1ORxRsK3MrSLvh7VQTF01F                             Ultraviolence (Deluxe)  \n",
       "5   5HOHne1wzItQlIYmLXLYfZ  Did you know that there's a tunnel under Ocean...  \n",
       "6   5XpEKORZ4y6OrCZSKsi46A                           Norman Fucking Rockwell!  \n",
       "7   5HOHne1wzItQlIYmLXLYfZ  Did you know that there's a tunnel under Ocean...  \n",
       "8   2DpEBrjCur1ythIZ10gJWw                                          Honeymoon  \n",
       "9   6QeosPQpJckkW0Obir5RT8                   Chemtrails Over The Country Club  \n",
       "10  7xYiTrbTL57QO0bb4hXIKo                                      Lust For Life  \n",
       "11  1ORxRsK3MrSLvh7VQTF01F                             Ultraviolence (Deluxe)  \n",
       "12  1ORxRsK3MrSLvh7VQTF01F                             Ultraviolence (Deluxe)  \n",
       "13  1ORxRsK3MrSLvh7VQTF01F                             Ultraviolence (Deluxe)  \n",
       "14  0Dt3FbpMQwjoT5KNAw0IXR   Born To Die – Paradise Edition (Special Version)  "
      ]
     },
     "execution_count": 10,
     "metadata": {},
     "output_type": "execute_result"
    }
   ],
   "source": [
    "# reset index\n",
    "tracks_df_sorted = tracks_df_sorted.reset_index(drop = True)\n",
    "tracks_df_sorted.head(15)"
   ]
  },
  {
   "cell_type": "markdown",
   "id": "bfdd9a42-30a0-490e-9d88-194a785a0e99",
   "metadata": {},
   "source": [
    "### Checking for Missing Values:"
   ]
  },
  {
   "cell_type": "code",
   "execution_count": 11,
   "id": "9f8e64d1-f6c8-4e7a-a83d-a2b983a84f2c",
   "metadata": {
    "tags": []
   },
   "outputs": [],
   "source": [
    "if tracks_df['Track Popularity'].isnull().any():\n",
    "    print(\"contains missing values\")\n",
    "    \n",
    "    # Drop missing values\n",
    "    tracks_df['Track Popularity'].dropna(inplace = True)"
   ]
  },
  {
   "cell_type": "markdown",
   "id": "9d18c0a4-1509-4cd9-b48e-56f6a5a4ccb1",
   "metadata": {},
   "source": [
    "## *Track Analysis*"
   ]
  },
  {
   "cell_type": "markdown",
   "id": "11406518-8728-45aa-8eb7-07f3995678c1",
   "metadata": {},
   "source": [
    "### Summary Statistics:"
   ]
  },
  {
   "cell_type": "code",
   "execution_count": 12,
   "id": "c1952f88-b9a0-4032-a1a2-ab381e5b12ea",
   "metadata": {
    "tags": []
   },
   "outputs": [
    {
     "data": {
      "text/html": [
       "<div>\n",
       "<style scoped>\n",
       "    .dataframe tbody tr th:only-of-type {\n",
       "        vertical-align: middle;\n",
       "    }\n",
       "\n",
       "    .dataframe tbody tr th {\n",
       "        vertical-align: top;\n",
       "    }\n",
       "\n",
       "    .dataframe thead th {\n",
       "        text-align: right;\n",
       "    }\n",
       "</style>\n",
       "<table border=\"1\" class=\"dataframe\">\n",
       "  <thead>\n",
       "    <tr style=\"text-align: right;\">\n",
       "      <th></th>\n",
       "      <th>Track Popularity</th>\n",
       "    </tr>\n",
       "  </thead>\n",
       "  <tbody>\n",
       "    <tr>\n",
       "      <th>count</th>\n",
       "      <td>275.000000</td>\n",
       "    </tr>\n",
       "    <tr>\n",
       "      <th>mean</th>\n",
       "      <td>52.705455</td>\n",
       "    </tr>\n",
       "    <tr>\n",
       "      <th>std</th>\n",
       "      <td>13.471129</td>\n",
       "    </tr>\n",
       "    <tr>\n",
       "      <th>min</th>\n",
       "      <td>20.000000</td>\n",
       "    </tr>\n",
       "    <tr>\n",
       "      <th>25%</th>\n",
       "      <td>43.000000</td>\n",
       "    </tr>\n",
       "    <tr>\n",
       "      <th>50%</th>\n",
       "      <td>53.000000</td>\n",
       "    </tr>\n",
       "    <tr>\n",
       "      <th>75%</th>\n",
       "      <td>62.000000</td>\n",
       "    </tr>\n",
       "    <tr>\n",
       "      <th>max</th>\n",
       "      <td>85.000000</td>\n",
       "    </tr>\n",
       "  </tbody>\n",
       "</table>\n",
       "</div>"
      ],
      "text/plain": [
       "       Track Popularity\n",
       "count        275.000000\n",
       "mean          52.705455\n",
       "std           13.471129\n",
       "min           20.000000\n",
       "25%           43.000000\n",
       "50%           53.000000\n",
       "75%           62.000000\n",
       "max           85.000000"
      ]
     },
     "execution_count": 12,
     "metadata": {},
     "output_type": "execute_result"
    }
   ],
   "source": [
    "tracks_df.describe()"
   ]
  },
  {
   "cell_type": "markdown",
   "id": "cf392102-7443-4f5a-a944-85ea7dc469b7",
   "metadata": {},
   "source": [
    "### Extract most popular 5 songs:"
   ]
  },
  {
   "cell_type": "code",
   "execution_count": 13,
   "id": "e1d3d114-83d7-4a3e-9f98-ee526f99bfca",
   "metadata": {
    "tags": []
   },
   "outputs": [
    {
     "data": {
      "text/html": [
       "<div>\n",
       "<style scoped>\n",
       "    .dataframe tbody tr th:only-of-type {\n",
       "        vertical-align: middle;\n",
       "    }\n",
       "\n",
       "    .dataframe tbody tr th {\n",
       "        vertical-align: top;\n",
       "    }\n",
       "\n",
       "    .dataframe thead th {\n",
       "        text-align: right;\n",
       "    }\n",
       "</style>\n",
       "<table border=\"1\" class=\"dataframe\">\n",
       "  <thead>\n",
       "    <tr style=\"text-align: right;\">\n",
       "      <th></th>\n",
       "      <th>Track Name</th>\n",
       "      <th>Track Popularity</th>\n",
       "      <th>Album ID</th>\n",
       "      <th>Album Name</th>\n",
       "    </tr>\n",
       "  </thead>\n",
       "  <tbody>\n",
       "    <tr>\n",
       "      <th>165</th>\n",
       "      <td>Young And Beautiful</td>\n",
       "      <td>85</td>\n",
       "      <td>1D92WOHWUI2AGQCCdplcXL</td>\n",
       "      <td>Young And Beautiful</td>\n",
       "    </tr>\n",
       "    <tr>\n",
       "      <th>159</th>\n",
       "      <td>Say Yes To Heaven</td>\n",
       "      <td>84</td>\n",
       "      <td>6jVg0POvGYH1Pt6lISl3ok</td>\n",
       "      <td>Say Yes To Heaven</td>\n",
       "    </tr>\n",
       "    <tr>\n",
       "      <th>18</th>\n",
       "      <td>West Coast</td>\n",
       "      <td>83</td>\n",
       "      <td>1ORxRsK3MrSLvh7VQTF01F</td>\n",
       "      <td>Ultraviolence (Deluxe)</td>\n",
       "    </tr>\n",
       "    <tr>\n",
       "      <th>97</th>\n",
       "      <td>Cinnamon Girl</td>\n",
       "      <td>82</td>\n",
       "      <td>5XpEKORZ4y6OrCZSKsi46A</td>\n",
       "      <td>Norman Fucking Rockwell!</td>\n",
       "    </tr>\n",
       "    <tr>\n",
       "      <th>17</th>\n",
       "      <td>Brooklyn Baby</td>\n",
       "      <td>81</td>\n",
       "      <td>1ORxRsK3MrSLvh7VQTF01F</td>\n",
       "      <td>Ultraviolence (Deluxe)</td>\n",
       "    </tr>\n",
       "  </tbody>\n",
       "</table>\n",
       "</div>"
      ],
      "text/plain": [
       "              Track Name  Track Popularity                Album ID  \\\n",
       "165  Young And Beautiful                85  1D92WOHWUI2AGQCCdplcXL   \n",
       "159    Say Yes To Heaven                84  6jVg0POvGYH1Pt6lISl3ok   \n",
       "18            West Coast                83  1ORxRsK3MrSLvh7VQTF01F   \n",
       "97         Cinnamon Girl                82  5XpEKORZ4y6OrCZSKsi46A   \n",
       "17         Brooklyn Baby                81  1ORxRsK3MrSLvh7VQTF01F   \n",
       "\n",
       "                   Album Name  \n",
       "165       Young And Beautiful  \n",
       "159         Say Yes To Heaven  \n",
       "18     Ultraviolence (Deluxe)  \n",
       "97   Norman Fucking Rockwell!  \n",
       "17     Ultraviolence (Deluxe)  "
      ]
     },
     "execution_count": 13,
     "metadata": {},
     "output_type": "execute_result"
    }
   ],
   "source": [
    "most_popular_songs = tracks_df.nlargest(5, 'Track Popularity')\n",
    "most_popular_songs"
   ]
  },
  {
   "cell_type": "markdown",
   "id": "bc0acf45-6250-4bff-84e0-624e7e84ef13",
   "metadata": {},
   "source": [
    "### Visualize:"
   ]
  },
  {
   "cell_type": "code",
   "execution_count": 15,
   "id": "1ced3fdd-6f4b-4f15-ac89-67fe8a846de8",
   "metadata": {
    "tags": []
   },
   "outputs": [
    {
     "data": {
      "image/png": "[encoded data removed]",
      "text/plain": [
       "<Figure size 640x480 with 1 Axes>"
      ]
     },
     "metadata": {},
     "output_type": "display_data"
    }
   ],
   "source": [
    "import matplotlib.pyplot as plt\n",
    "\n",
    "most_popular_songs.plot(kind = 'barh', x = 'Track Name', y='Track Popularity', legend=False, color='skyblue')\n",
    "\n",
    "plt.title('Top 5 Most Popular Songs')\n",
    "plt.xlabel('Popularity')\n",
    "plt.ylabel('Track Name')\n",
    "\n",
    "plt.show()"
   ]
  },
  {
   "cell_type": "markdown",
   "id": "a1af5694-dc48-4d2d-a4f3-2f8386ddb4a1",
   "metadata": {},
   "source": [
    "### Extract least popular 5 songs:"
   ]
  },
  {
   "cell_type": "code",
   "execution_count": 16,
   "id": "2d345e83-85e4-46f8-8dcc-c19a519662f3",
   "metadata": {
    "tags": []
   },
   "outputs": [
    {
     "data": {
      "text/html": [
       "<div>\n",
       "<style scoped>\n",
       "    .dataframe tbody tr th:only-of-type {\n",
       "        vertical-align: middle;\n",
       "    }\n",
       "\n",
       "    .dataframe tbody tr th {\n",
       "        vertical-align: top;\n",
       "    }\n",
       "\n",
       "    .dataframe thead th {\n",
       "        text-align: right;\n",
       "    }\n",
       "</style>\n",
       "<table border=\"1\" class=\"dataframe\">\n",
       "  <thead>\n",
       "    <tr style=\"text-align: right;\">\n",
       "      <th></th>\n",
       "      <th>Track Name</th>\n",
       "      <th>Track Popularity</th>\n",
       "      <th>Album ID</th>\n",
       "      <th>Album Name</th>\n",
       "    </tr>\n",
       "  </thead>\n",
       "  <tbody>\n",
       "    <tr>\n",
       "      <th>169</th>\n",
       "      <td>Video Games - Jamie Woon Remix</td>\n",
       "      <td>20</td>\n",
       "      <td>5xQF02P2MtoIIqMCB1MOoM</td>\n",
       "      <td>Video Games Remixes</td>\n",
       "    </tr>\n",
       "    <tr>\n",
       "      <th>237</th>\n",
       "      <td>Chloë</td>\n",
       "      <td>21</td>\n",
       "      <td>3hL6ZIcwV6zUfqRiPLPBLJ</td>\n",
       "      <td>Buddy's Rendezvous</td>\n",
       "    </tr>\n",
       "    <tr>\n",
       "      <th>167</th>\n",
       "      <td>Video Games - Jakwob and Etherwood Remix</td>\n",
       "      <td>22</td>\n",
       "      <td>5xQF02P2MtoIIqMCB1MOoM</td>\n",
       "      <td>Video Games Remixes</td>\n",
       "    </tr>\n",
       "    <tr>\n",
       "      <th>236</th>\n",
       "      <td>(Everything But) Her Love</td>\n",
       "      <td>22</td>\n",
       "      <td>3hL6ZIcwV6zUfqRiPLPBLJ</td>\n",
       "      <td>Buddy's Rendezvous</td>\n",
       "    </tr>\n",
       "    <tr>\n",
       "      <th>105</th>\n",
       "      <td>Summertime Sadness [Lana Del Rey vs. Cedric Ge...</td>\n",
       "      <td>23</td>\n",
       "      <td>7EsPt342xAGvGDz9wCrH6S</td>\n",
       "      <td>Summertime Sadness [Lana Del Rey vs. Cedric Ge...</td>\n",
       "    </tr>\n",
       "  </tbody>\n",
       "</table>\n",
       "</div>"
      ],
      "text/plain": [
       "                                            Track Name  Track Popularity  \\\n",
       "169                     Video Games - Jamie Woon Remix                20   \n",
       "237                                              Chloë                21   \n",
       "167           Video Games - Jakwob and Etherwood Remix                22   \n",
       "236                          (Everything But) Her Love                22   \n",
       "105  Summertime Sadness [Lana Del Rey vs. Cedric Ge...                23   \n",
       "\n",
       "                   Album ID                                         Album Name  \n",
       "169  5xQF02P2MtoIIqMCB1MOoM                                Video Games Remixes  \n",
       "237  3hL6ZIcwV6zUfqRiPLPBLJ                                 Buddy's Rendezvous  \n",
       "167  5xQF02P2MtoIIqMCB1MOoM                                Video Games Remixes  \n",
       "236  3hL6ZIcwV6zUfqRiPLPBLJ                                 Buddy's Rendezvous  \n",
       "105  7EsPt342xAGvGDz9wCrH6S  Summertime Sadness [Lana Del Rey vs. Cedric Ge...  "
      ]
     },
     "execution_count": 16,
     "metadata": {},
     "output_type": "execute_result"
    }
   ],
   "source": [
    "least_popular_songs = tracks_df.nsmallest(5, 'Track Popularity')\n",
    "least_popular_songs"
   ]
  },
  {
   "cell_type": "markdown",
   "id": "a6ae6d30-4025-457f-9fa9-fccbd3bb1a1c",
   "metadata": {},
   "source": [
    "### Visualize:"
   ]
  },
  {
   "cell_type": "code",
   "execution_count": 18,
   "id": "905ba5fe-6c6e-4660-b58d-5379161d203d",
   "metadata": {
    "tags": []
   },
   "outputs": [
    {
     "data": {
      "image/png": "[encoded data removed]",
      "text/plain": [
       "<Figure size 640x480 with 1 Axes>"
      ]
     },
     "metadata": {},
     "output_type": "display_data"
    }
   ],
   "source": [
    "least_popular_songs.plot(kind='barh', x='Track Name', y='Track Popularity', legend=False, color='skyblue')\n",
    "\n",
    "plt.title('Top 5 Least Popular Songs')\n",
    "plt.xlabel('Popularity')\n",
    "plt.ylabel('Track Name')\n",
    "\n",
    "plt.show()"
   ]
  },
  {
   "cell_type": "markdown",
   "id": "d6187315-5386-402e-94c7-d77099433bb8",
   "metadata": {},
   "source": [
    "A good majority of the least popular songs are remixes, to be expected."
   ]
  },
  {
   "cell_type": "markdown",
   "id": "f3081eb6-b7b2-4ad9-acb6-20b2dddab033",
   "metadata": {},
   "source": [
    "Let's dive more into the remix tracks..."
   ]
  },
  {
   "cell_type": "markdown",
   "id": "6396bbac-2989-4563-ba35-b323759f3e92",
   "metadata": {
    "tags": []
   },
   "source": [
    "### Extracting Remix Tracks:"
   ]
  },
  {
   "cell_type": "code",
   "execution_count": 19,
   "id": "ffa07fdd-a501-4a02-8e78-c6fe801b10ae",
   "metadata": {
    "tags": []
   },
   "outputs": [
    {
     "data": {
      "text/html": [
       "<div>\n",
       "<style scoped>\n",
       "    .dataframe tbody tr th:only-of-type {\n",
       "        vertical-align: middle;\n",
       "    }\n",
       "\n",
       "    .dataframe tbody tr th {\n",
       "        vertical-align: top;\n",
       "    }\n",
       "\n",
       "    .dataframe thead th {\n",
       "        text-align: right;\n",
       "    }\n",
       "</style>\n",
       "<table border=\"1\" class=\"dataframe\">\n",
       "  <thead>\n",
       "    <tr style=\"text-align: right;\">\n",
       "      <th></th>\n",
       "      <th>Track Name</th>\n",
       "      <th>Track Popularity</th>\n",
       "      <th>Album ID</th>\n",
       "      <th>Album Name</th>\n",
       "    </tr>\n",
       "  </thead>\n",
       "  <tbody>\n",
       "    <tr>\n",
       "      <th>105</th>\n",
       "      <td>Summertime Sadness [Lana Del Rey vs. Cedric Ge...</td>\n",
       "      <td>23</td>\n",
       "      <td>7EsPt342xAGvGDz9wCrH6S</td>\n",
       "      <td>Summertime Sadness [Lana Del Rey vs. Cedric Ge...</td>\n",
       "    </tr>\n",
       "    <tr>\n",
       "      <th>142</th>\n",
       "      <td>Born To Die - Woodkid &amp; The Shoes Remix</td>\n",
       "      <td>38</td>\n",
       "      <td>4X8hAqIWpQyQks2yRhyqs4</td>\n",
       "      <td>Born To Die</td>\n",
       "    </tr>\n",
       "    <tr>\n",
       "      <th>161</th>\n",
       "      <td>Summer Bummer - Snakehips Remix</td>\n",
       "      <td>42</td>\n",
       "      <td>7tSNHl6gCeuLj81GZO43Xn</td>\n",
       "      <td>Summer Bummer (Snakehips Remix)</td>\n",
       "    </tr>\n",
       "    <tr>\n",
       "      <th>164</th>\n",
       "      <td>Say Yes To Heaven - Anyma Remix</td>\n",
       "      <td>61</td>\n",
       "      <td>35ZI8inROOaI4YkvOmCSLq</td>\n",
       "      <td>Say Yes To Heaven (Anyma Remix)</td>\n",
       "    </tr>\n",
       "    <tr>\n",
       "      <th>166</th>\n",
       "      <td>Video Games - Club Clique For The Bad Girls Remix</td>\n",
       "      <td>34</td>\n",
       "      <td>5xQF02P2MtoIIqMCB1MOoM</td>\n",
       "      <td>Video Games Remixes</td>\n",
       "    </tr>\n",
       "    <tr>\n",
       "      <th>167</th>\n",
       "      <td>Video Games - Jakwob and Etherwood Remix</td>\n",
       "      <td>22</td>\n",
       "      <td>5xQF02P2MtoIIqMCB1MOoM</td>\n",
       "      <td>Video Games Remixes</td>\n",
       "    </tr>\n",
       "    <tr>\n",
       "      <th>169</th>\n",
       "      <td>Video Games - Jamie Woon Remix</td>\n",
       "      <td>20</td>\n",
       "      <td>5xQF02P2MtoIIqMCB1MOoM</td>\n",
       "      <td>Video Games Remixes</td>\n",
       "    </tr>\n",
       "    <tr>\n",
       "      <th>170</th>\n",
       "      <td>Video Games - We Don’t Belong In Pacha Remix</td>\n",
       "      <td>26</td>\n",
       "      <td>5xQF02P2MtoIIqMCB1MOoM</td>\n",
       "      <td>Video Games Remixes</td>\n",
       "    </tr>\n",
       "    <tr>\n",
       "      <th>173</th>\n",
       "      <td>Summer Bummer - Clams Casino Remix</td>\n",
       "      <td>37</td>\n",
       "      <td>3gY2PiLHPaOmYApYJYPpIi</td>\n",
       "      <td>Summer Bummer (Clams Casino Remix)</td>\n",
       "    </tr>\n",
       "    <tr>\n",
       "      <th>174</th>\n",
       "      <td>Lust For Life - BloodPop® Remix</td>\n",
       "      <td>41</td>\n",
       "      <td>3RQdSuT8Y2WGynwlFrJI58</td>\n",
       "      <td>Lust For Life (BloodPop® Remix)</td>\n",
       "    </tr>\n",
       "    <tr>\n",
       "      <th>218</th>\n",
       "      <td>Young And Beautiful [Lana Del Rey vs. Cedric G...</td>\n",
       "      <td>42</td>\n",
       "      <td>02duSuiRA2CHxrCdeRUHz5</td>\n",
       "      <td>Young And Beautiful [Lana Del Rey vs. Cedric G...</td>\n",
       "    </tr>\n",
       "    <tr>\n",
       "      <th>220</th>\n",
       "      <td>Summertime - Imanbek Remix</td>\n",
       "      <td>52</td>\n",
       "      <td>5XRtJEsQ1jLvOkQZdBjPZZ</td>\n",
       "      <td>Summertime Sadness (Imanbek Remix)</td>\n",
       "    </tr>\n",
       "    <tr>\n",
       "      <th>226</th>\n",
       "      <td>Blue Jeans - Smims &amp; Belle Remix</td>\n",
       "      <td>34</td>\n",
       "      <td>6IQC6W4qrTWIQmUmNGFyKo</td>\n",
       "      <td>Blue Jeans Remixes</td>\n",
       "    </tr>\n",
       "    <tr>\n",
       "      <th>227</th>\n",
       "      <td>Blue Jeans - Gesaffelstein Remix</td>\n",
       "      <td>37</td>\n",
       "      <td>6IQC6W4qrTWIQmUmNGFyKo</td>\n",
       "      <td>Blue Jeans Remixes</td>\n",
       "    </tr>\n",
       "    <tr>\n",
       "      <th>229</th>\n",
       "      <td>Blue Jeans - Club Clique Nothing Is Real Remix</td>\n",
       "      <td>26</td>\n",
       "      <td>6IQC6W4qrTWIQmUmNGFyKo</td>\n",
       "      <td>Blue Jeans Remixes</td>\n",
       "    </tr>\n",
       "    <tr>\n",
       "      <th>230</th>\n",
       "      <td>Blue Jeans - Kris Menace Remix</td>\n",
       "      <td>35</td>\n",
       "      <td>6IQC6W4qrTWIQmUmNGFyKo</td>\n",
       "      <td>Blue Jeans Remixes</td>\n",
       "    </tr>\n",
       "    <tr>\n",
       "      <th>231</th>\n",
       "      <td>Blue Jeans - Penguin Prison Remix</td>\n",
       "      <td>33</td>\n",
       "      <td>6IQC6W4qrTWIQmUmNGFyKo</td>\n",
       "      <td>Blue Jeans Remixes</td>\n",
       "    </tr>\n",
       "    <tr>\n",
       "      <th>239</th>\n",
       "      <td>Summertime Sadness (Lana Del Rey Vs. Cedric Ge...</td>\n",
       "      <td>75</td>\n",
       "      <td>1fXwOvaqIdkhp5F3fiFbCv</td>\n",
       "      <td>Summertime Sadness [Lana Del Rey vs. Cedric Ge...</td>\n",
       "    </tr>\n",
       "    <tr>\n",
       "      <th>240</th>\n",
       "      <td>Say Yes To Heaven - sim0ne &amp; Melo Nada Remix</td>\n",
       "      <td>52</td>\n",
       "      <td>7xIg7rC6R80DJqV0001u2J</td>\n",
       "      <td>Say Yes To Heaven (sim0ne &amp; Melo Nada Remix)</td>\n",
       "    </tr>\n",
       "    <tr>\n",
       "      <th>257</th>\n",
       "      <td>West Coast - ZHU Remix</td>\n",
       "      <td>41</td>\n",
       "      <td>1DV1nkL7LYsPepkX2C5E2C</td>\n",
       "      <td>West Coast</td>\n",
       "    </tr>\n",
       "    <tr>\n",
       "      <th>258</th>\n",
       "      <td>West Coast - Ten Ven Remix</td>\n",
       "      <td>31</td>\n",
       "      <td>1DV1nkL7LYsPepkX2C5E2C</td>\n",
       "      <td>West Coast</td>\n",
       "    </tr>\n",
       "    <tr>\n",
       "      <th>260</th>\n",
       "      <td>West Coast - MK Remix</td>\n",
       "      <td>33</td>\n",
       "      <td>1DV1nkL7LYsPepkX2C5E2C</td>\n",
       "      <td>West Coast</td>\n",
       "    </tr>\n",
       "  </tbody>\n",
       "</table>\n",
       "</div>"
      ],
      "text/plain": [
       "                                            Track Name  Track Popularity  \\\n",
       "105  Summertime Sadness [Lana Del Rey vs. Cedric Ge...                23   \n",
       "142            Born To Die - Woodkid & The Shoes Remix                38   \n",
       "161                    Summer Bummer - Snakehips Remix                42   \n",
       "164                    Say Yes To Heaven - Anyma Remix                61   \n",
       "166  Video Games - Club Clique For The Bad Girls Remix                34   \n",
       "167           Video Games - Jakwob and Etherwood Remix                22   \n",
       "169                     Video Games - Jamie Woon Remix                20   \n",
       "170       Video Games - We Don’t Belong In Pacha Remix                26   \n",
       "173                 Summer Bummer - Clams Casino Remix                37   \n",
       "174                    Lust For Life - BloodPop® Remix                41   \n",
       "218  Young And Beautiful [Lana Del Rey vs. Cedric G...                42   \n",
       "220                         Summertime - Imanbek Remix                52   \n",
       "226                   Blue Jeans - Smims & Belle Remix                34   \n",
       "227                   Blue Jeans - Gesaffelstein Remix                37   \n",
       "229     Blue Jeans - Club Clique Nothing Is Real Remix                26   \n",
       "230                     Blue Jeans - Kris Menace Remix                35   \n",
       "231                  Blue Jeans - Penguin Prison Remix                33   \n",
       "239  Summertime Sadness (Lana Del Rey Vs. Cedric Ge...                75   \n",
       "240       Say Yes To Heaven - sim0ne & Melo Nada Remix                52   \n",
       "257                             West Coast - ZHU Remix                41   \n",
       "258                         West Coast - Ten Ven Remix                31   \n",
       "260                              West Coast - MK Remix                33   \n",
       "\n",
       "                   Album ID                                         Album Name  \n",
       "105  7EsPt342xAGvGDz9wCrH6S  Summertime Sadness [Lana Del Rey vs. Cedric Ge...  \n",
       "142  4X8hAqIWpQyQks2yRhyqs4                                        Born To Die  \n",
       "161  7tSNHl6gCeuLj81GZO43Xn                    Summer Bummer (Snakehips Remix)  \n",
       "164  35ZI8inROOaI4YkvOmCSLq                    Say Yes To Heaven (Anyma Remix)  \n",
       "166  5xQF02P2MtoIIqMCB1MOoM                                Video Games Remixes  \n",
       "167  5xQF02P2MtoIIqMCB1MOoM                                Video Games Remixes  \n",
       "169  5xQF02P2MtoIIqMCB1MOoM                                Video Games Remixes  \n",
       "170  5xQF02P2MtoIIqMCB1MOoM                                Video Games Remixes  \n",
       "173  3gY2PiLHPaOmYApYJYPpIi                 Summer Bummer (Clams Casino Remix)  \n",
       "174  3RQdSuT8Y2WGynwlFrJI58                    Lust For Life (BloodPop® Remix)  \n",
       "218  02duSuiRA2CHxrCdeRUHz5  Young And Beautiful [Lana Del Rey vs. Cedric G...  \n",
       "220  5XRtJEsQ1jLvOkQZdBjPZZ                 Summertime Sadness (Imanbek Remix)  \n",
       "226  6IQC6W4qrTWIQmUmNGFyKo                                 Blue Jeans Remixes  \n",
       "227  6IQC6W4qrTWIQmUmNGFyKo                                 Blue Jeans Remixes  \n",
       "229  6IQC6W4qrTWIQmUmNGFyKo                                 Blue Jeans Remixes  \n",
       "230  6IQC6W4qrTWIQmUmNGFyKo                                 Blue Jeans Remixes  \n",
       "231  6IQC6W4qrTWIQmUmNGFyKo                                 Blue Jeans Remixes  \n",
       "239  1fXwOvaqIdkhp5F3fiFbCv  Summertime Sadness [Lana Del Rey vs. Cedric Ge...  \n",
       "240  7xIg7rC6R80DJqV0001u2J       Say Yes To Heaven (sim0ne & Melo Nada Remix)  \n",
       "257  1DV1nkL7LYsPepkX2C5E2C                                         West Coast  \n",
       "258  1DV1nkL7LYsPepkX2C5E2C                                         West Coast  \n",
       "260  1DV1nkL7LYsPepkX2C5E2C                                         West Coast  "
      ]
     },
     "execution_count": 19,
     "metadata": {},
     "output_type": "execute_result"
    }
   ],
   "source": [
    "remix_tracks = tracks_df[tracks_df['Track Name'].str.contains('remix', case=False)]\n",
    "remix_tracks"
   ]
  },
  {
   "cell_type": "markdown",
   "id": "a92a560a-3f23-48bf-be9d-e0bf7018a9ee",
   "metadata": {},
   "source": [
    "### Visualize:"
   ]
  },
  {
   "cell_type": "code",
   "execution_count": 78,
   "id": "c4cb6958-54cd-4dce-8a72-0c82fd72e86a",
   "metadata": {
    "tags": []
   },
   "outputs": [
    {
     "data": {
      "image/png": "[encoded data removed]",
      "text/plain": [
       "<Figure size 640x480 with 1 Axes>"
      ]
     },
     "metadata": {},
     "output_type": "display_data"
    }
   ],
   "source": [
    "remix_tracks.plot(kind='bar', x='Track Name', y='Track Popularity', legend=None, color = 'pink')\n",
    "\n",
    "plt.title('Remix Track Popularity')\n",
    "plt.xlabel('Remix Tracks')\n",
    "plt.ylabel('Popularity')\n",
    "plt.show()"
   ]
  },
  {
   "cell_type": "code",
   "execution_count": 25,
   "id": "d87dd2d5-9c72-423e-9dfb-0e40130c3828",
   "metadata": {
    "tags": []
   },
   "outputs": [
    {
     "data": {
      "text/plain": [
       "14"
      ]
     },
     "execution_count": 25,
     "metadata": {},
     "output_type": "execute_result"
    }
   ],
   "source": [
    "summer_sad_df = tracks_df_sorted[tracks_df_sorted['Track Name'] == 'Summertime Sadness']\n",
    "summer_sad_df.index.min()"
   ]
  },
  {
   "cell_type": "markdown",
   "id": "72eb4905-3bb4-420f-a725-6004138629d4",
   "metadata": {},
   "source": [
    "The remix with the highest popularity rating seems to be Summertime Sadness with Cedric Gervais. Since Summertime Sadness is the 14th most popular song this remix would be expected to be a more popular one. However, the extended remix is 5th LEAST popular song, contrary to the regular remix version."
   ]
  },
  {
   "cell_type": "markdown",
   "id": "6b2d3d98-b293-4d1e-84c9-b0d5d656a012",
   "metadata": {},
   "source": [
    "Sidenote: Summertime Sadness is often considered by the public Lana Del Rey's most popular song. However, on the basis of how Spotify calculates the popularity ratings, the songs more frequently streamed or shared by fans of LDR appear to be more popular based on the type of calculation."
   ]
  },
  {
   "cell_type": "markdown",
   "id": "373dfede-7f2e-45f2-a299-49f09b4cf1f4",
   "metadata": {},
   "source": [
    "## *Album Analysis*"
   ]
  },
  {
   "cell_type": "markdown",
   "id": "af6f4fd6-4763-42e8-8aa4-f3fb6776592b",
   "metadata": {},
   "source": [
    "### Analyzing Overall Album Popularity:"
   ]
  },
  {
   "cell_type": "code",
   "execution_count": 26,
   "id": "4c6eca8f-5571-4428-9c38-9ee91dbbf6e7",
   "metadata": {
    "tags": []
   },
   "outputs": [
    {
     "data": {
      "text/html": [
       "<div>\n",
       "<style scoped>\n",
       "    .dataframe tbody tr th:only-of-type {\n",
       "        vertical-align: middle;\n",
       "    }\n",
       "\n",
       "    .dataframe tbody tr th {\n",
       "        vertical-align: top;\n",
       "    }\n",
       "\n",
       "    .dataframe thead th {\n",
       "        text-align: right;\n",
       "    }\n",
       "</style>\n",
       "<table border=\"1\" class=\"dataframe\">\n",
       "  <thead>\n",
       "    <tr style=\"text-align: right;\">\n",
       "      <th></th>\n",
       "      <th>Track Name</th>\n",
       "      <th>Track Popularity</th>\n",
       "      <th>Album ID</th>\n",
       "      <th>Album Name</th>\n",
       "      <th>Release Date</th>\n",
       "      <th>Total Tracks</th>\n",
       "      <th>Album Type</th>\n",
       "    </tr>\n",
       "  </thead>\n",
       "  <tbody>\n",
       "    <tr>\n",
       "      <th>0</th>\n",
       "      <td>Honeymoon</td>\n",
       "      <td>61</td>\n",
       "      <td>2DpEBrjCur1ythIZ10gJWw</td>\n",
       "      <td>Honeymoon</td>\n",
       "      <td>2015-09-18</td>\n",
       "      <td>14</td>\n",
       "      <td>album</td>\n",
       "    </tr>\n",
       "    <tr>\n",
       "      <th>1</th>\n",
       "      <td>Music To Watch Boys To</td>\n",
       "      <td>65</td>\n",
       "      <td>2DpEBrjCur1ythIZ10gJWw</td>\n",
       "      <td>Honeymoon</td>\n",
       "      <td>2015-09-18</td>\n",
       "      <td>14</td>\n",
       "      <td>album</td>\n",
       "    </tr>\n",
       "    <tr>\n",
       "      <th>2</th>\n",
       "      <td>Terrence Loves You</td>\n",
       "      <td>57</td>\n",
       "      <td>2DpEBrjCur1ythIZ10gJWw</td>\n",
       "      <td>Honeymoon</td>\n",
       "      <td>2015-09-18</td>\n",
       "      <td>14</td>\n",
       "      <td>album</td>\n",
       "    </tr>\n",
       "    <tr>\n",
       "      <th>3</th>\n",
       "      <td>God Knows I Tried</td>\n",
       "      <td>58</td>\n",
       "      <td>2DpEBrjCur1ythIZ10gJWw</td>\n",
       "      <td>Honeymoon</td>\n",
       "      <td>2015-09-18</td>\n",
       "      <td>14</td>\n",
       "      <td>album</td>\n",
       "    </tr>\n",
       "    <tr>\n",
       "      <th>4</th>\n",
       "      <td>High By The Beach</td>\n",
       "      <td>69</td>\n",
       "      <td>2DpEBrjCur1ythIZ10gJWw</td>\n",
       "      <td>Honeymoon</td>\n",
       "      <td>2015-09-18</td>\n",
       "      <td>14</td>\n",
       "      <td>album</td>\n",
       "    </tr>\n",
       "    <tr>\n",
       "      <th>...</th>\n",
       "      <td>...</td>\n",
       "      <td>...</td>\n",
       "      <td>...</td>\n",
       "      <td>...</td>\n",
       "      <td>...</td>\n",
       "      <td>...</td>\n",
       "      <td>...</td>\n",
       "    </tr>\n",
       "    <tr>\n",
       "      <th>365</th>\n",
       "      <td>Without You</td>\n",
       "      <td>40</td>\n",
       "      <td>3TtsWmvFbChKTWIRfa85lS</td>\n",
       "      <td>Born To Die (Bonus Track Version)</td>\n",
       "      <td>2012-01-30</td>\n",
       "      <td>15</td>\n",
       "      <td>album</td>\n",
       "    </tr>\n",
       "    <tr>\n",
       "      <th>366</th>\n",
       "      <td>Lolita</td>\n",
       "      <td>42</td>\n",
       "      <td>3TtsWmvFbChKTWIRfa85lS</td>\n",
       "      <td>Born To Die (Bonus Track Version)</td>\n",
       "      <td>2012-01-30</td>\n",
       "      <td>15</td>\n",
       "      <td>album</td>\n",
       "    </tr>\n",
       "    <tr>\n",
       "      <th>367</th>\n",
       "      <td>Lucky Ones</td>\n",
       "      <td>41</td>\n",
       "      <td>3TtsWmvFbChKTWIRfa85lS</td>\n",
       "      <td>Born To Die (Bonus Track Version)</td>\n",
       "      <td>2012-01-30</td>\n",
       "      <td>15</td>\n",
       "      <td>album</td>\n",
       "    </tr>\n",
       "    <tr>\n",
       "      <th>368</th>\n",
       "      <td>Season Of The Witch</td>\n",
       "      <td>60</td>\n",
       "      <td>4K7RKXggxezOmccv1Uuviq</td>\n",
       "      <td>Season Of The Witch (From The Motion Picture \"...</td>\n",
       "      <td>2019-08-09</td>\n",
       "      <td>1</td>\n",
       "      <td>single</td>\n",
       "    </tr>\n",
       "    <tr>\n",
       "      <th>369</th>\n",
       "      <td>Take Me Home, Country Roads</td>\n",
       "      <td>68</td>\n",
       "      <td>5qDjtBY8cC4bO6wytuGOuT</td>\n",
       "      <td>Take Me Home, Country Roads</td>\n",
       "      <td>2023-12-01</td>\n",
       "      <td>1</td>\n",
       "      <td>single</td>\n",
       "    </tr>\n",
       "  </tbody>\n",
       "</table>\n",
       "<p>370 rows × 7 columns</p>\n",
       "</div>"
      ],
      "text/plain": [
       "                      Track Name  Track Popularity                Album ID  \\\n",
       "0                      Honeymoon                61  2DpEBrjCur1ythIZ10gJWw   \n",
       "1         Music To Watch Boys To                65  2DpEBrjCur1ythIZ10gJWw   \n",
       "2             Terrence Loves You                57  2DpEBrjCur1ythIZ10gJWw   \n",
       "3              God Knows I Tried                58  2DpEBrjCur1ythIZ10gJWw   \n",
       "4              High By The Beach                69  2DpEBrjCur1ythIZ10gJWw   \n",
       "..                           ...               ...                     ...   \n",
       "365                  Without You                40  3TtsWmvFbChKTWIRfa85lS   \n",
       "366                       Lolita                42  3TtsWmvFbChKTWIRfa85lS   \n",
       "367                   Lucky Ones                41  3TtsWmvFbChKTWIRfa85lS   \n",
       "368          Season Of The Witch                60  4K7RKXggxezOmccv1Uuviq   \n",
       "369  Take Me Home, Country Roads                68  5qDjtBY8cC4bO6wytuGOuT   \n",
       "\n",
       "                                            Album Name Release Date  \\\n",
       "0                                            Honeymoon   2015-09-18   \n",
       "1                                            Honeymoon   2015-09-18   \n",
       "2                                            Honeymoon   2015-09-18   \n",
       "3                                            Honeymoon   2015-09-18   \n",
       "4                                            Honeymoon   2015-09-18   \n",
       "..                                                 ...          ...   \n",
       "365                  Born To Die (Bonus Track Version)   2012-01-30   \n",
       "366                  Born To Die (Bonus Track Version)   2012-01-30   \n",
       "367                  Born To Die (Bonus Track Version)   2012-01-30   \n",
       "368  Season Of The Witch (From The Motion Picture \"...   2019-08-09   \n",
       "369                        Take Me Home, Country Roads   2023-12-01   \n",
       "\n",
       "     Total Tracks Album Type  \n",
       "0              14      album  \n",
       "1              14      album  \n",
       "2              14      album  \n",
       "3              14      album  \n",
       "4              14      album  \n",
       "..            ...        ...  \n",
       "365            15      album  \n",
       "366            15      album  \n",
       "367            15      album  \n",
       "368             1     single  \n",
       "369             1     single  \n",
       "\n",
       "[370 rows x 7 columns]"
      ]
     },
     "execution_count": 26,
     "metadata": {},
     "output_type": "execute_result"
    }
   ],
   "source": [
    "# Merging tracks and albums dataframes on Album Name\n",
    "album_pop = pd.merge(tracks_df, albums_df, on='Album Name')\n",
    "album_pop"
   ]
  },
  {
   "cell_type": "markdown",
   "id": "3316ce7d-1cfe-46a6-a14d-25ea9a8349b7",
   "metadata": {},
   "source": [
    "### Sort by Popularity:"
   ]
  },
  {
   "cell_type": "code",
   "execution_count": 38,
   "id": "5be546cc-595c-401e-a7a6-d2b58b89cd3a",
   "metadata": {
    "tags": []
   },
   "outputs": [],
   "source": [
    "# Group by Album ID and Album Name, and sum the Track Popularity\n",
    "album_popularity = album_pop.groupby('Album Name')['Track Popularity'].sum().reset_index()"
   ]
  },
  {
   "cell_type": "code",
   "execution_count": 55,
   "id": "d406c609-3130-4a89-8ba4-b5c2ecf07c35",
   "metadata": {
    "tags": []
   },
   "outputs": [
    {
     "data": {
      "text/html": [
       "<div>\n",
       "<style scoped>\n",
       "    .dataframe tbody tr th:only-of-type {\n",
       "        vertical-align: middle;\n",
       "    }\n",
       "\n",
       "    .dataframe tbody tr th {\n",
       "        vertical-align: top;\n",
       "    }\n",
       "\n",
       "    .dataframe thead th {\n",
       "        text-align: right;\n",
       "    }\n",
       "</style>\n",
       "<table border=\"1\" class=\"dataframe\">\n",
       "  <thead>\n",
       "    <tr style=\"text-align: right;\">\n",
       "      <th></th>\n",
       "      <th>Album Name</th>\n",
       "      <th>Album Popularity</th>\n",
       "    </tr>\n",
       "  </thead>\n",
       "  <tbody>\n",
       "    <tr>\n",
       "      <th>4</th>\n",
       "      <td>Born To Die</td>\n",
       "      <td>4866</td>\n",
       "    </tr>\n",
       "    <tr>\n",
       "      <th>1</th>\n",
       "      <td>Blue Banisters</td>\n",
       "      <td>1858</td>\n",
       "    </tr>\n",
       "    <tr>\n",
       "      <th>7</th>\n",
       "      <td>Born To Die – Paradise Edition (Special Version)</td>\n",
       "      <td>1376</td>\n",
       "    </tr>\n",
       "    <tr>\n",
       "      <th>6</th>\n",
       "      <td>Born To Die - The Paradise Edition</td>\n",
       "      <td>1239</td>\n",
       "    </tr>\n",
       "    <tr>\n",
       "      <th>12</th>\n",
       "      <td>Did you know that there's a tunnel under Ocean...</td>\n",
       "      <td>1020</td>\n",
       "    </tr>\n",
       "  </tbody>\n",
       "</table>\n",
       "</div>"
      ],
      "text/plain": [
       "                                           Album Name  Album Popularity\n",
       "4                                         Born To Die              4866\n",
       "1                                      Blue Banisters              1858\n",
       "7    Born To Die – Paradise Edition (Special Version)              1376\n",
       "6                  Born To Die - The Paradise Edition              1239\n",
       "12  Did you know that there's a tunnel under Ocean...              1020"
      ]
     },
     "execution_count": 55,
     "metadata": {},
     "output_type": "execute_result"
    }
   ],
   "source": [
    "# Rename column with sum of popularity for each album\n",
    "album_popularity.rename(columns = {'Track Popularity' : 'Album Popularity'}, inplace = True)\n",
    "album_popularity.sort_values(by = 'Album Popularity', ascending = False)\n",
    "album_popularity.nlargest(5, 'Album Popularity')"
   ]
  },
  {
   "cell_type": "markdown",
   "id": "9101e4bb-8960-4780-9484-589d5ce85751",
   "metadata": {},
   "source": [
    "### Visualizing Top Albums"
   ]
  },
  {
   "cell_type": "code",
   "execution_count": 74,
   "id": "437c5056-0201-4923-ac14-fb6576702b6d",
   "metadata": {
    "tags": []
   },
   "outputs": [],
   "source": [
    "top_albums = album_popularity.nlargest(15, 'Album Popularity')"
   ]
  },
  {
   "cell_type": "code",
   "execution_count": 80,
   "id": "79b8c0c6-2702-43bd-8399-693251a056a0",
   "metadata": {
    "tags": []
   },
   "outputs": [
    {
     "data": {
      "image/png": "[encoded data removed]",
      "text/plain": [
       "<Figure size 640x480 with 1 Axes>"
      ]
     },
     "metadata": {},
     "output_type": "display_data"
    }
   ],
   "source": [
    "top_albums.plot(kind = 'barh', x = 'Album Name', y = 'Album Popularity', legend = False, color = 'blue')\n",
    "\n",
    "plt.title('Top Albums')\n",
    "plt.xlabel('Album Popularity')\n",
    "plt.ylabel('Album Name')\n",
    "plt.show()"
   ]
  },
  {
   "cell_type": "code",
   "execution_count": 70,
   "id": "de426873-ec55-4df1-aa20-62095f3d3399",
   "metadata": {
    "tags": []
   },
   "outputs": [
    {
     "data": {
      "text/plain": [
       "2"
      ]
     },
     "execution_count": 70,
     "metadata": {},
     "output_type": "execute_result"
    }
   ],
   "source": [
    "btd_popularity = album_popularity[album_popularity['Album Name'].str.contains('Born to Die', case=False, na=False)]['Album Popularity']\n",
    "bb_popularity = album_popularity[album_popularity['Album Name'].str.contains('Blue Banisters', case=False, na=False)]['Album Popularity']\n",
    "btd_popularity.iloc[0] // bb_popularity.iloc[0]"
   ]
  },
  {
   "cell_type": "markdown",
   "id": "8fed3c24-3218-4838-a30b-1a6776849a66",
   "metadata": {},
   "source": [
    "As we can see, Born to Die is unmistakingly Lana Del Rey's most popular ablum with 2 of the special editions ranking above all of her other albums except Blue Banisters. Even so, Born to Die has at least 2 times more of a popularity rating than Blue Banisters, therefore establishing the album's renound popularity when compared to all her other albums."
   ]
  },
  {
   "cell_type": "markdown",
   "id": "b4054264-309d-43a2-9be3-88cda3fe1e9e",
   "metadata": {},
   "source": [
    "## Delving into Lana Del Rey's most popular album, Born to Die:"
   ]
  },
  {
   "cell_type": "markdown",
   "id": "c8a36273-253e-40ad-aa3d-20d7c9977051",
   "metadata": {},
   "source": [
    "### Extracting BTD Albums:"
   ]
  },
  {
   "cell_type": "code",
   "execution_count": 42,
   "id": "e590194b-c776-4d05-bdb0-4e94b0f72e03",
   "metadata": {
    "tags": []
   },
   "outputs": [
    {
     "data": {
      "text/html": [
       "<div>\n",
       "<style scoped>\n",
       "    .dataframe tbody tr th:only-of-type {\n",
       "        vertical-align: middle;\n",
       "    }\n",
       "\n",
       "    .dataframe tbody tr th {\n",
       "        vertical-align: top;\n",
       "    }\n",
       "\n",
       "    .dataframe thead th {\n",
       "        text-align: right;\n",
       "    }\n",
       "</style>\n",
       "<table border=\"1\" class=\"dataframe\">\n",
       "  <thead>\n",
       "    <tr style=\"text-align: right;\">\n",
       "      <th></th>\n",
       "      <th>Album Name</th>\n",
       "      <th>Album Popularity</th>\n",
       "    </tr>\n",
       "  </thead>\n",
       "  <tbody>\n",
       "    <tr>\n",
       "      <th>4</th>\n",
       "      <td>Born To Die</td>\n",
       "      <td>4866</td>\n",
       "    </tr>\n",
       "    <tr>\n",
       "      <th>5</th>\n",
       "      <td>Born To Die (Bonus Track Version)</td>\n",
       "      <td>640</td>\n",
       "    </tr>\n",
       "    <tr>\n",
       "      <th>6</th>\n",
       "      <td>Born To Die - The Paradise Edition</td>\n",
       "      <td>1239</td>\n",
       "    </tr>\n",
       "    <tr>\n",
       "      <th>7</th>\n",
       "      <td>Born To Die – Paradise Edition (Special Version)</td>\n",
       "      <td>1376</td>\n",
       "    </tr>\n",
       "  </tbody>\n",
       "</table>\n",
       "</div>"
      ],
      "text/plain": [
       "                                         Album Name  Album Popularity\n",
       "4                                       Born To Die              4866\n",
       "5                 Born To Die (Bonus Track Version)               640\n",
       "6                Born To Die - The Paradise Edition              1239\n",
       "7  Born To Die – Paradise Edition (Special Version)              1376"
      ]
     },
     "execution_count": 42,
     "metadata": {},
     "output_type": "execute_result"
    }
   ],
   "source": [
    "btd_albums = album_popularity[album_popularity['Album Name'].str.contains('Born to Die', case=False)]\n",
    "btd_albums"
   ]
  },
  {
   "cell_type": "markdown",
   "id": "af2867d9-1896-4713-8709-f449d6da0367",
   "metadata": {},
   "source": [
    "There seems to be multiple Born To Die Albums with varying popularity ratings, some being special editions and bonus track versions."
   ]
  },
  {
   "cell_type": "markdown",
   "id": "4ef63a9b-b03c-4ee1-90d3-7b4b19c6ddcb",
   "metadata": {},
   "source": [
    "Upon further research, this seems to be a result of artists usually releasing multiple versions including remixes, etc. to gain more profit."
   ]
  },
  {
   "cell_type": "markdown",
   "id": "e7c4822c-aa13-4267-a935-e7c3da0cef95",
   "metadata": {},
   "source": [
    "### Extracting BTD songs from Total tracks:"
   ]
  },
  {
   "cell_type": "code",
   "execution_count": 46,
   "id": "57aae2ca-23ba-46dd-a485-07565a19ab38",
   "metadata": {
    "tags": []
   },
   "outputs": [
    {
     "data": {
      "text/html": [
       "<div>\n",
       "<style scoped>\n",
       "    .dataframe tbody tr th:only-of-type {\n",
       "        vertical-align: middle;\n",
       "    }\n",
       "\n",
       "    .dataframe tbody tr th {\n",
       "        vertical-align: top;\n",
       "    }\n",
       "\n",
       "    .dataframe thead th {\n",
       "        text-align: right;\n",
       "    }\n",
       "</style>\n",
       "<table border=\"1\" class=\"dataframe\">\n",
       "  <thead>\n",
       "    <tr style=\"text-align: right;\">\n",
       "      <th></th>\n",
       "      <th>Track Name</th>\n",
       "      <th>Track Popularity</th>\n",
       "      <th>Album ID</th>\n",
       "      <th>Album Name</th>\n",
       "    </tr>\n",
       "  </thead>\n",
       "  <tbody>\n",
       "    <tr>\n",
       "      <th>79</th>\n",
       "      <td>Born To Die</td>\n",
       "      <td>54</td>\n",
       "      <td>4vXt6IpMcSnqonljffWlMI</td>\n",
       "      <td>Born To Die</td>\n",
       "    </tr>\n",
       "    <tr>\n",
       "      <th>80</th>\n",
       "      <td>Off To The Races</td>\n",
       "      <td>49</td>\n",
       "      <td>4vXt6IpMcSnqonljffWlMI</td>\n",
       "      <td>Born To Die</td>\n",
       "    </tr>\n",
       "    <tr>\n",
       "      <th>81</th>\n",
       "      <td>Blue Jeans - Remastered 2011</td>\n",
       "      <td>49</td>\n",
       "      <td>4vXt6IpMcSnqonljffWlMI</td>\n",
       "      <td>Born To Die</td>\n",
       "    </tr>\n",
       "    <tr>\n",
       "      <th>82</th>\n",
       "      <td>Video Games</td>\n",
       "      <td>51</td>\n",
       "      <td>4vXt6IpMcSnqonljffWlMI</td>\n",
       "      <td>Born To Die</td>\n",
       "    </tr>\n",
       "    <tr>\n",
       "      <th>83</th>\n",
       "      <td>Diet Mountain Dew</td>\n",
       "      <td>53</td>\n",
       "      <td>4vXt6IpMcSnqonljffWlMI</td>\n",
       "      <td>Born To Die</td>\n",
       "    </tr>\n",
       "    <tr>\n",
       "      <th>...</th>\n",
       "      <td>...</td>\n",
       "      <td>...</td>\n",
       "      <td>...</td>\n",
       "      <td>...</td>\n",
       "    </tr>\n",
       "    <tr>\n",
       "      <th>268</th>\n",
       "      <td>Radio</td>\n",
       "      <td>42</td>\n",
       "      <td>5IjSLZhlg0qVq62r2PSfM1</td>\n",
       "      <td>Born To Die</td>\n",
       "    </tr>\n",
       "    <tr>\n",
       "      <th>269</th>\n",
       "      <td>Carmen</td>\n",
       "      <td>28</td>\n",
       "      <td>5IjSLZhlg0qVq62r2PSfM1</td>\n",
       "      <td>Born To Die</td>\n",
       "    </tr>\n",
       "    <tr>\n",
       "      <th>270</th>\n",
       "      <td>Million Dollar Man</td>\n",
       "      <td>28</td>\n",
       "      <td>5IjSLZhlg0qVq62r2PSfM1</td>\n",
       "      <td>Born To Die</td>\n",
       "    </tr>\n",
       "    <tr>\n",
       "      <th>271</th>\n",
       "      <td>Summertime Sadness</td>\n",
       "      <td>34</td>\n",
       "      <td>5IjSLZhlg0qVq62r2PSfM1</td>\n",
       "      <td>Born To Die</td>\n",
       "    </tr>\n",
       "    <tr>\n",
       "      <th>272</th>\n",
       "      <td>This Is What Makes Us Girls</td>\n",
       "      <td>27</td>\n",
       "      <td>5IjSLZhlg0qVq62r2PSfM1</td>\n",
       "      <td>Born To Die</td>\n",
       "    </tr>\n",
       "  </tbody>\n",
       "</table>\n",
       "<p>99 rows × 4 columns</p>\n",
       "</div>"
      ],
      "text/plain": [
       "                       Track Name  Track Popularity                Album ID  \\\n",
       "79                    Born To Die                54  4vXt6IpMcSnqonljffWlMI   \n",
       "80               Off To The Races                49  4vXt6IpMcSnqonljffWlMI   \n",
       "81   Blue Jeans - Remastered 2011                49  4vXt6IpMcSnqonljffWlMI   \n",
       "82                    Video Games                51  4vXt6IpMcSnqonljffWlMI   \n",
       "83              Diet Mountain Dew                53  4vXt6IpMcSnqonljffWlMI   \n",
       "..                            ...               ...                     ...   \n",
       "268                         Radio                42  5IjSLZhlg0qVq62r2PSfM1   \n",
       "269                        Carmen                28  5IjSLZhlg0qVq62r2PSfM1   \n",
       "270            Million Dollar Man                28  5IjSLZhlg0qVq62r2PSfM1   \n",
       "271            Summertime Sadness                34  5IjSLZhlg0qVq62r2PSfM1   \n",
       "272   This Is What Makes Us Girls                27  5IjSLZhlg0qVq62r2PSfM1   \n",
       "\n",
       "      Album Name  \n",
       "79   Born To Die  \n",
       "80   Born To Die  \n",
       "81   Born To Die  \n",
       "82   Born To Die  \n",
       "83   Born To Die  \n",
       "..           ...  \n",
       "268  Born To Die  \n",
       "269  Born To Die  \n",
       "270  Born To Die  \n",
       "271  Born To Die  \n",
       "272  Born To Die  \n",
       "\n",
       "[99 rows x 4 columns]"
      ]
     },
     "execution_count": 46,
     "metadata": {},
     "output_type": "execute_result"
    }
   ],
   "source": [
    "btd = tracks_df[tracks_df['Album Name'].str.contains('Born to Die', case=False)]\n",
    "btd"
   ]
  },
  {
   "cell_type": "markdown",
   "id": "35ddb2a3-c3fb-4a62-9639-302ef327547b",
   "metadata": {},
   "source": [
    "### Visualize Top Tracks in BTD:"
   ]
  },
  {
   "cell_type": "code",
   "execution_count": 50,
   "id": "34bb8864-5274-41a3-81a1-7d269a14fba0",
   "metadata": {
    "tags": []
   },
   "outputs": [],
   "source": [
    "btd_top = btd.nlargest(10, 'Track Popularity')"
   ]
  },
  {
   "cell_type": "code",
   "execution_count": 81,
   "id": "3449355f-5462-4cae-85b9-9e14f32cf5a8",
   "metadata": {
    "tags": []
   },
   "outputs": [
    {
     "data": {
      "text/plain": [
       "Text(0, 0.5, 'Popularity')"
      ]
     },
     "execution_count": 81,
     "metadata": {},
     "output_type": "execute_result"
    },
    {
     "data": {
      "image/png": "[encoded data removed]",
      "text/plain": [
       "<Figure size 640x480 with 1 Axes>"
      ]
     },
     "metadata": {},
     "output_type": "display_data"
    }
   ],
   "source": [
    "btd_top.plot(kind = 'bar', x = 'Track Name', y = 'Track Popularity', legend = None, color = 'red')\n",
    "\n",
    "plt.title('Born to Die Track Popularity')\n",
    "plt.xlabel('Born to Die Tracks')\n",
    "plt.ylabel('Popularity')"
   ]
  },
  {
   "cell_type": "markdown",
   "id": "9e98946d-ea17-4196-8b7f-df268d366a7d",
   "metadata": {},
   "source": [
    "Inference: This confirms our insight above of Summertime Sadness being a very popular song as it is the most popular song from the most popular album."
   ]
  }
 ],
 "metadata": {
  "kernelspec": {
   "display_name": "Python 3 (ipykernel)",
   "language": "python",
   "name": "python3"
  },
  "language_info": {
   "codemirror_mode": {
    "name": "ipython",
    "version": 3
   },
   "file_extension": ".py",
   "mimetype": "text/x-python",
   "name": "python",
   "nbconvert_exporter": "python",
   "pygments_lexer": "ipython3",
   "version": "3.11.5"
  }
 },
 "nbformat": 4,
 "nbformat_minor": 5
}
